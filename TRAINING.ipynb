{
 "cells": [
  {
   "cell_type": "markdown",
   "id": "8ffbaac1",
   "metadata": {},
   "source": [
    "# NAME: SHREYA V"
   ]
  },
  {
   "cell_type": "markdown",
   "id": "1e7d0e9d",
   "metadata": {},
   "source": [
    "# DOMAIN: CV & IoT"
   ]
  },
  {
   "cell_type": "code",
   "execution_count": 1,
   "id": "pleased-tomorrow",
   "metadata": {},
   "outputs": [],
   "source": [
    "from PyQt5 import QtCore, QtGui, QtWidgets\n",
    "from tensorflow.keras.models import Sequential, load_model\n",
    "from tensorflow.keras.layers import Conv2D, MaxPool2D, Dense, Flatten, Dropout\n",
    "from tensorflow.keras.utils import to_categorical\n",
    "from sklearn.model_selection import train_test_split\n",
    "import numpy as np\n",
    "import matplotlib.pyplot as plt\n",
    "from PIL import Image\n",
    "import os"
   ]
  },
  {
   "cell_type": "code",
   "execution_count": 2,
   "id": "personal-shift",
   "metadata": {},
   "outputs": [],
   "source": [
    "data = []\n",
    "labels = []\n",
    "classes = 43\n",
    "cur_path = os.getcwd() #To get current directory"
   ]
  },
  {
   "cell_type": "code",
   "execution_count": 3,
   "id": "annual-causing",
   "metadata": {},
   "outputs": [],
   "source": [
    "classs = { 1:\"Speed limit (20km/h)\",\n",
    "    2:\"Speed limit (30km/h)\",\n",
    "    3:\"Speed limit (50km/h)\",\n",
    "    4:\"Speed limit (60km/h)\",\n",
    "    5:\"Speed limit (70km/h)\",\n",
    "    6:\"Speed limit (80km/h)\",\n",
    "    7:\"End of speed limit (80km/h)\",\n",
    "    8:\"Speed limit (100km/h)\",\n",
    "    9:\"Speed limit (120km/h)\",\n",
    "    10:\"No passing\",\n",
    "    11:\"No passing veh over 3.5 tons\",\n",
    "    12:\"Right-of-way at intersection\",\n",
    "    13:\"Priority road\",\n",
    "    14:\"Yield\",\n",
    "    15:\"Stop\",\n",
    "    16:\"No vehicles\",\n",
    "    17:\"Veh > 3.5 tons prohibited\",\n",
    "    18:\"No entry\",\n",
    "    19:\"General caution\",\n",
    "    20:\"Dangerous curve left\",\n",
    "    21:\"Dangerous curve right\",\n",
    "    22:\"Double curve\",\n",
    "    23:\"Bumpy road\",\n",
    "    24:\"Slippery road\",\n",
    "    25:\"Road narrows on the right\",\n",
    "    26:\"Road work\",\n",
    "    27:\"Traffic signals\",\n",
    "    28:\"Pedestrians\",\n",
    "    29:\"Children crossing\",\n",
    "    30:\"Bicycles crossing\",\n",
    "    31:\"Beware of ice/snow\",\n",
    "    32:\"Wild animals crossing\",\n",
    "    33:\"End speed + passing limits\",\n",
    "    34:\"Turn right ahead\",\n",
    "    35:\"Turn left ahead\",\n",
    "    36:\"Ahead only\",\n",
    "    37:\"Go straight or right\",\n",
    "    38:\"Go straight or left\",\n",
    "    39:\"Keep right\",\n",
    "    40:\"Keep left\",\n",
    "    41:\"Roundabout mandatory\",\n",
    "    42:\"End of no passing\",\n",
    "    43:\"End no passing veh > 3.5 tons\" }"
   ]
  },
  {
   "cell_type": "code",
   "execution_count": 4,
   "id": "electronic-joyce",
   "metadata": {},
   "outputs": [
    {
     "name": "stdout",
     "output_type": "stream",
     "text": [
      "Obtaining Images & its Labels..............\n"
     ]
    },
    {
     "ename": "FileNotFoundError",
     "evalue": "[WinError 3] The system cannot find the path specified: 'C:\\\\Users\\\\GVS-PC\\\\Downloads\\\\TrafficSignClassification-main\\\\dataset/Train/0'",
     "output_type": "error",
     "traceback": [
      "\u001b[1;31m---------------------------------------------------------------------------\u001b[0m",
      "\u001b[1;31mFileNotFoundError\u001b[0m                         Traceback (most recent call last)",
      "\u001b[1;32m<ipython-input-4-7bf7c07ea04b>\u001b[0m in \u001b[0;36m<module>\u001b[1;34m\u001b[0m\n\u001b[0;32m      3\u001b[0m \u001b[1;32mfor\u001b[0m \u001b[0mi\u001b[0m \u001b[1;32min\u001b[0m \u001b[0mrange\u001b[0m\u001b[1;33m(\u001b[0m\u001b[0mclasses\u001b[0m\u001b[1;33m)\u001b[0m\u001b[1;33m:\u001b[0m\u001b[1;33m\u001b[0m\u001b[1;33m\u001b[0m\u001b[0m\n\u001b[0;32m      4\u001b[0m     \u001b[0mpath\u001b[0m \u001b[1;33m=\u001b[0m \u001b[0mos\u001b[0m\u001b[1;33m.\u001b[0m\u001b[0mpath\u001b[0m\u001b[1;33m.\u001b[0m\u001b[0mjoin\u001b[0m\u001b[1;33m(\u001b[0m\u001b[0mcur_path\u001b[0m\u001b[1;33m,\u001b[0m\u001b[1;34m'dataset/Train/'\u001b[0m\u001b[1;33m,\u001b[0m\u001b[0mstr\u001b[0m\u001b[1;33m(\u001b[0m\u001b[0mi\u001b[0m\u001b[1;33m)\u001b[0m\u001b[1;33m)\u001b[0m\u001b[1;33m\u001b[0m\u001b[1;33m\u001b[0m\u001b[0m\n\u001b[1;32m----> 5\u001b[1;33m     \u001b[0mimages\u001b[0m \u001b[1;33m=\u001b[0m \u001b[0mos\u001b[0m\u001b[1;33m.\u001b[0m\u001b[0mlistdir\u001b[0m\u001b[1;33m(\u001b[0m\u001b[0mpath\u001b[0m\u001b[1;33m)\u001b[0m\u001b[1;33m\u001b[0m\u001b[1;33m\u001b[0m\u001b[0m\n\u001b[0m\u001b[0;32m      6\u001b[0m \u001b[1;33m\u001b[0m\u001b[0m\n\u001b[0;32m      7\u001b[0m     \u001b[1;32mfor\u001b[0m \u001b[0ma\u001b[0m \u001b[1;32min\u001b[0m \u001b[0mimages\u001b[0m\u001b[1;33m:\u001b[0m\u001b[1;33m\u001b[0m\u001b[1;33m\u001b[0m\u001b[0m\n",
      "\u001b[1;31mFileNotFoundError\u001b[0m: [WinError 3] The system cannot find the path specified: 'C:\\\\Users\\\\GVS-PC\\\\Downloads\\\\TrafficSignClassification-main\\\\dataset/Train/0'"
     ]
    }
   ],
   "source": [
    "#Retrieving the images and their labels\n",
    "print(\"Obtaining Images & its Labels..............\")\n",
    "for i in range(classes):\n",
    "    path = os.path.join(cur_path,'dataset/Train/',str(i))\n",
    "    images = os.listdir(path)\n",
    "\n",
    "    for a in images:\n",
    "        try:\n",
    "            image = Image.open(path + '\\\\'+ a)\n",
    "            image = image.resize((30,30))\n",
    "            image = np.array(image)\n",
    "            data.append(image)\n",
    "            labels.append(i)\n",
    "            print(\"{0} Loaded\".format(a))\n",
    "        except:\n",
    "            print(\"Error loading image\")\n",
    "print(\"Dataset Loaded\")"
   ]
  },
  {
   "cell_type": "code",
   "execution_count": null,
   "id": "negative-practitioner",
   "metadata": {},
   "outputs": [],
   "source": [
    "#Converting lists into numpy arrays\n",
    "data = np.array(data)\n",
    "labels = np.array(labels)\n",
    "print(data.shape, labels.shape)"
   ]
  },
  {
   "cell_type": "code",
   "execution_count": null,
   "id": "accurate-canvas",
   "metadata": {},
   "outputs": [],
   "source": [
    "#Splitting training and testing dataset\n",
    "X_train, X_test, y_train, y_test = train_test_split(data, labels, test_size=0.2, random_state=42)"
   ]
  },
  {
   "cell_type": "code",
   "execution_count": null,
   "id": "completed-possession",
   "metadata": {},
   "outputs": [],
   "source": [
    "#Converting the labels into one hot encoding\n",
    "y_train = to_categorical(y_train, 43)\n",
    "y_test = to_categorical(y_test, 43)"
   ]
  },
  {
   "cell_type": "code",
   "execution_count": null,
   "id": "organizational-planner",
   "metadata": {},
   "outputs": [],
   "source": [
    "    print(\"Training under process...\")\n",
    "    model = Sequential()\n",
    "    model.add(Conv2D(filters=32, kernel_size=(5, 5), activation='relu', input_shape=X_train.shape[1:]))\n",
    "    model.add(Conv2D(filters=32, kernel_size=(5, 5), activation='relu'))\n",
    "    model.add(MaxPool2D(pool_size=(2, 2)))\n",
    "    model.add(Dropout(rate=0.25))\n",
    "    model.add(Conv2D(filters=64, kernel_size=(3, 3), activation='relu'))\n",
    "    model.add(Conv2D(filters=64, kernel_size=(3, 3), activation='relu'))\n",
    "    model.add(MaxPool2D(pool_size=(2, 2)))\n",
    "    model.add(Dropout(rate=0.25))\n",
    "    model.add(Flatten())\n",
    "    model.add(Dense(256, activation='relu'))\n",
    "    model.add(Dropout(rate=0.5))\n",
    "    model.add(Dense(43, activation='softmax'))\n",
    "    print(\"Initialized model\")\n",
    "\n",
    "    # Compilation of the model\n",
    "    model.compile(loss='categorical_crossentropy', optimizer='adam', metrics=['accuracy'])\n",
    "\n",
    "\n",
    "    history = model.fit(X_train, y_train, batch_size=64, epochs=50, validation_data=(X_test, y_test))\n",
    "    model.save(\"my_model.h5\")\n",
    "\n",
    "    plt.figure(0)\n",
    "    plt.plot(history.history['accuracy'], label='training accuracy')\n",
    "    plt.plot(history.history['val_accuracy'], label='val accuracy')\n",
    "    plt.title('Accuracy')\n",
    "    plt.xlabel('epochs')\n",
    "    plt.ylabel('accuracy')\n",
    "    plt.legend()\n",
    "    plt.savefig('Accuracy.png')\n",
    "\n",
    "    plt.figure(1)\n",
    "    plt.plot(history.history['loss'], label='training loss')\n",
    "    plt.plot(history.history['val_loss'], label='val loss')\n",
    "    plt.title('Loss')\n",
    "    plt.xlabel('epochs')\n",
    "    plt.ylabel('loss')\n",
    "    plt.legend()\n",
    "    plt.savefig('Loss.png')\n",
    "    print(\"Saved Model & Graph to disk\")"
   ]
  }
 ],
 "metadata": {
  "kernelspec": {
   "display_name": "Python 3",
   "language": "python",
   "name": "python3"
  },
  "language_info": {
   "codemirror_mode": {
    "name": "ipython",
    "version": 3
   },
   "file_extension": ".py",
   "mimetype": "text/x-python",
   "name": "python",
   "nbconvert_exporter": "python",
   "pygments_lexer": "ipython3",
   "version": "3.8.8"
  }
 },
 "nbformat": 4,
 "nbformat_minor": 5
}
