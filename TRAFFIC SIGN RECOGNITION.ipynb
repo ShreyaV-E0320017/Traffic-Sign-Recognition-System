{
 "cells": [
  {
   "cell_type": "markdown",
   "id": "c4a10d5b",
   "metadata": {},
   "source": [
    "# NAME: SHREYA V"
   ]
  },
  {
   "cell_type": "markdown",
   "id": "fbbdf1b7",
   "metadata": {},
   "source": [
    "# TASK: TRAFFIC SIGN RECOGNITION"
   ]
  },
  {
   "cell_type": "code",
   "execution_count": null,
   "id": "acting-holiday",
   "metadata": {},
   "outputs": [],
   "source": [
    "from tensorflow.keras import models\n",
    "from tensorflow.keras.models import load_model\n",
    "import numpy as np\n",
    "from PIL import Image\n",
    "import cv2\n",
    "import h5py\n",
    "import imutils"
   ]
  },
  {
   "cell_type": "code",
   "execution_count": null,
   "id": "opening-means",
   "metadata": {},
   "outputs": [],
   "source": [
    "data = []\n",
    "labels = []\n",
    "classes = 43"
   ]
  },
  {
   "cell_type": "code",
   "execution_count": null,
   "id": "connected-rachel",
   "metadata": {},
   "outputs": [],
   "source": [
    "classs = {1: \"Speed limit (20km/h)\",\n",
    "          2: \"Speed limit (30km/h)\",\n",
    "          3: \"Speed limit (50km/h)\",\n",
    "          4: \"Speed limit (60km/h)\",\n",
    "          5: \"Speed limit (70km/h)\",\n",
    "          6: \"Speed limit (80km/h)\",\n",
    "          7: \"End of speed limit (80km/h)\",\n",
    "          8: \"Speed limit (100km/h)\",\n",
    "          9: \"Speed limit (120km/h)\",\n",
    "          10: \"No passing\",\n",
    "          11: \"No passing veh over 3.5 tons\",\n",
    "          12: \"Right-of-way at intersection\",\n",
    "          13: \"Priority road\",\n",
    "          14: \"Yield\",\n",
    "          15: \"Stop\",\n",
    "          16: \"No vehicles\",\n",
    "          17: \"Veh > 3.5 tons prohibited\",\n",
    "          18: \"No entry\",\n",
    "          19: \"General caution\",\n",
    "          20: \"Dangerous curve left\",\n",
    "          21: \"Dangerous curve right\",\n",
    "          22: \"Double curve\",\n",
    "          23: \"Bumpy road\",\n",
    "          24: \"Slippery road\",\n",
    "          25: \"Road narrows on the right\",\n",
    "          26: \"Road work\",\n",
    "          27: \"Traffic signals\",\n",
    "          28: \"Pedestrians\",\n",
    "          29: \"Children crossing\",\n",
    "          30: \"Bicycles crossing\",\n",
    "          31: \"Beware of ice/snow\",\n",
    "          32: \"Wild animals crossing\",\n",
    "          33: \"End speed + passing limits\",\n",
    "          34: \"Turn right ahead\",\n",
    "          35: \"Turn left ahead\",\n",
    "          36: \"Ahead only\",\n",
    "          37: \"Go straight or right\",\n",
    "          38: \"Go straight or left\",\n",
    "          39: \"Keep right\",\n",
    "          40: \"Keep left\",\n",
    "          41: \"Roundabout mandatory\",\n",
    "          42: \"End of no passing\",\n",
    "          43: \"End no passing veh > 3.5 tons\"}"
   ]
  },
  {
   "cell_type": "code",
   "execution_count": null,
   "id": "complicated-cholesterol",
   "metadata": {},
   "outputs": [],
   "source": [
    "print(\"Loading Model...\")\n",
    "model = load_model(\"my_model.h5\", compile=False)\n",
    "print(\"Model Loaded!\")"
   ]
  },
  {
   "cell_type": "code",
   "execution_count": null,
   "id": "ahead-genome",
   "metadata": {},
   "outputs": [],
   "source": [
    "print(\"Starting Camera...\")\n",
    "cam = cv2.VideoCapture(0)\n",
    "\n",
    "while True:\n",
    "    frame = cam.read()[1]\n",
    "    img = Image.fromarray(frame, \"RGB\")\n",
    "    img = img.resize((30, 30))\n",
    "    img = np.expand_dims(img, axis=0)\n",
    "    img = np.array(img)\n",
    "\n",
    "    result = model.predict_classes(img)[0]\n",
    "    sign = classs[result + 1]\n",
    "    print(\"The sign says: \", sign)\n",
    "\n",
    "    cv2.putText(frame, sign, (10, 30), cv2.FONT_HERSHEY_COMPLEX_SMALL, 1.5, (0, 0, 255), 1)\n",
    "    frame = imutils.resize(frame, width=500)\n",
    "    cv2.imshow(\"Caputering\", frame)\n",
    "\n",
    "    key = cv2.waitKey(1)\n",
    "    if key == ord(\"q\"):\n",
    "        break\n",
    "\n",
    "cam.release()\n",
    "cv2.destroyAllWindows()"
   ]
  }
 ],
 "metadata": {
  "kernelspec": {
   "display_name": "Python 3",
   "language": "python",
   "name": "python3"
  },
  "language_info": {
   "codemirror_mode": {
    "name": "ipython",
    "version": 3
   },
   "file_extension": ".py",
   "mimetype": "text/x-python",
   "name": "python",
   "nbconvert_exporter": "python",
   "pygments_lexer": "ipython3",
   "version": "3.8.8"
  }
 },
 "nbformat": 4,
 "nbformat_minor": 5
}
